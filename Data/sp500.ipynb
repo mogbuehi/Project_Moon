{
 "cells": [
  {
   "cell_type": "code",
   "execution_count": null,
   "metadata": {},
   "outputs": [],
   "source": [
    "# Importing Timeseries function from alpha_vantage SDK\n",
    "from alpha_vantage.timeseries import TimeSeries\n",
    "import matplotlib.pyplot as plt\n",
    "\n",
    "ts = TimeSeries(key='M5OHGR4HTJKK00SG', output_format='pandas')\n",
    "spy_data, meta_data = ts.get_daily(symbol='SPY', outputsize='full') #using Alpha Vantage API to grab S&P 500 ETF (ticker symbol = SPY), gives 20+ years of price data\n",
    "spy_data['4. close'].plot()\n",
    "plt.title('Intraday Times Series for the SPY (S&P 500) stock (daily)')\n",
    "plt.show()\n",
    "print(data)\n",
    "\n"
   ]
  }
 ],
 "metadata": {
  "kernelspec": {
   "display_name": "Python (dev)",
   "language": "python",
   "name": "dev"
  },
  "language_info": {
   "codemirror_mode": {
    "name": "ipython",
    "version": 3
   },
   "file_extension": ".py",
   "mimetype": "text/x-python",
   "name": "python",
   "nbconvert_exporter": "python",
   "pygments_lexer": "ipython3",
   "version": "3.7.9"
  }
 },
 "nbformat": 4,
 "nbformat_minor": 4
}
