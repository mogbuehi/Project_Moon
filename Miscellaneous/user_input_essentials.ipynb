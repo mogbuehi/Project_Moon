{
 "cells": [
  {
   "cell_type": "raw",
   "metadata": {},
   "source": [
    "UX in Jupyter — User input essentials\n",
    "https://github.com/jupyter-widgets/ipywidgets"
   ]
  },
  {
   "cell_type": "code",
   "execution_count": 4,
   "metadata": {},
   "outputs": [],
   "source": [
    "from ipywidgets import widgets"
   ]
  },
  {
   "cell_type": "code",
   "execution_count": 5,
   "metadata": {},
   "outputs": [
    {
     "data": {
      "application/vnd.jupyter.widget-view+json": {
       "model_id": "b4caf93122254e53a9dd23c3882a4e27",
       "version_major": 2,
       "version_minor": 0
      },
      "text/plain": [
       "Checkbox(value=False, description='Click Me', indent=False)"
      ]
     },
     "metadata": {},
     "output_type": "display_data"
    }
   ],
   "source": [
    "chkbox = widgets.Checkbox(\n",
    " value=False,\n",
    " description=\"Click Me\",\n",
    " disabled=False,\n",
    " indent=False # Indents the checkbox by 1 level\n",
    " )\n",
    "display(chkbox)"
   ]
  },
  {
   "cell_type": "code",
   "execution_count": 6,
   "metadata": {},
   "outputs": [
    {
     "data": {
      "application/vnd.jupyter.widget-view+json": {
       "model_id": "df99821c13ce4059a4ec9111eb795e53",
       "version_major": 2,
       "version_minor": 0
      },
      "text/plain": [
       "IntSlider(value=7, description='Cats:', max=10)"
      ]
     },
     "metadata": {},
     "output_type": "display_data"
    },
    {
     "name": "stdout",
     "output_type": "stream",
     "text": [
      "7\n"
     ]
    }
   ],
   "source": [
    "# integer slider\n",
    "slider = widgets.IntSlider(\n",
    " value=7, # default value\n",
    " min=0, # min value\n",
    " max=10, # max value\n",
    " step=1, # incriment size\n",
    " description=\"Cats:\" # slider label\n",
    ")\n",
    "display(slider) # display the slider\n",
    "# In another cell\n",
    "print(slider.value) # get the value of the slider"
   ]
  },
  {
   "cell_type": "code",
   "execution_count": 7,
   "metadata": {},
   "outputs": [
    {
     "data": {
      "application/vnd.jupyter.widget-view+json": {
       "model_id": "b86cc440c81740c9a10446459e018295",
       "version_major": 2,
       "version_minor": 0
      },
      "text/plain": [
       "FloatLogSlider(value=10.0, description='Log Slider', max=10.0, min=-10.0, step=0.2)"
      ]
     },
     "metadata": {},
     "output_type": "display_data"
    }
   ],
   "source": [
    "# float slider\n",
    "slider = widgets.FloatLogSlider(\n",
    " value=10, # default value\n",
    " base=10, # log base\n",
    " min=-10, # max exponent of base\n",
    " max=10, # min exponent of base\n",
    " step=0.2, # exponent step\n",
    " description=\"Log Slider\"\n",
    ")\n",
    "display(slider)"
   ]
  },
  {
   "cell_type": "code",
   "execution_count": null,
   "metadata": {},
   "outputs": [],
   "source": [
    "# BoundedIntText\n",
    "btb = widgets.BoundedIntText(\n",
    " value=7,\n",
    " min=0,\n",
    " max=10,\n",
    " description = \"Text:\"\n",
    ")\n",
    "display(btb)\n"
   ]
  },
  {
   "cell_type": "code",
   "execution_count": 6,
   "metadata": {},
   "outputs": [
    {
     "data": {
      "application/vnd.jupyter.widget-view+json": {
       "model_id": "8aff368663504b9aa4523ab5b16286b9",
       "version_major": 2,
       "version_minor": 0
      },
      "text/plain": [
       "BoundedFloatText(value=7.5, description='Text:', max=10.0)"
      ]
     },
     "metadata": {},
     "output_type": "display_data"
    }
   ],
   "source": [
    "# BoundedFloatText\n",
    "btb = widgets.BoundedFloatText(\n",
    " value=7.5,\n",
    " min=0,\n",
    " max=10.0,\n",
    " description=\"Text:\"\n",
    ")\n",
    "display(btb)"
   ]
  },
  {
   "cell_type": "code",
   "execution_count": 7,
   "metadata": {},
   "outputs": [
    {
     "data": {
      "application/vnd.jupyter.widget-view+json": {
       "model_id": "7f606c55e23a4bee895bc834e5b8b641",
       "version_major": 2,
       "version_minor": 0
      },
      "text/plain": [
       "IntText(value=7, description='Text:')"
      ]
     },
     "metadata": {},
     "output_type": "display_data"
    }
   ],
   "source": [
    "# IntText\n",
    "btb = widgets.IntText(\n",
    " value=7,\n",
    " description=\"Text:\"\n",
    " )\n",
    "display(btb)\n"
   ]
  },
  {
   "cell_type": "code",
   "execution_count": 8,
   "metadata": {},
   "outputs": [
    {
     "data": {
      "application/vnd.jupyter.widget-view+json": {
       "model_id": "ded8e3fd8a54445f86334a41f6393c6e",
       "version_major": 2,
       "version_minor": 0
      },
      "text/plain": [
       "FloatText(value=7.3, description='Text:')"
      ]
     },
     "metadata": {},
     "output_type": "display_data"
    }
   ],
   "source": [
    "# FloatText\n",
    "btb = widgets.FloatText(\n",
    " value=7.3,\n",
    " description=\"Text:\"\n",
    " )\n",
    "display(btb)"
   ]
  },
  {
   "cell_type": "code",
   "execution_count": 9,
   "metadata": {},
   "outputs": [
    {
     "data": {
      "application/vnd.jupyter.widget-view+json": {
       "model_id": "abbb6f4b2f4349dfabb6c0eb67b97054",
       "version_major": 2,
       "version_minor": 0
      },
      "text/plain": [
       "Text(value='', description='Name:', placeholder='Enter you name')"
      ]
     },
     "metadata": {},
     "output_type": "display_data"
    }
   ],
   "source": [
    "# text input\n",
    "txtsl = widgets.Text(\n",
    " placeholder=\"Enter you name\",\n",
    " description=\"Name:\"\n",
    " )\n",
    "display(txtsl)"
   ]
  },
  {
   "cell_type": "code",
   "execution_count": 10,
   "metadata": {},
   "outputs": [
    {
     "data": {
      "application/vnd.jupyter.widget-view+json": {
       "model_id": "05daf473cf404ba793d04c11133d92f4",
       "version_major": 2,
       "version_minor": 0
      },
      "text/plain": [
       "Textarea(value='this is the default value', description='Essay input', placeholder='Type something')"
      ]
     },
     "metadata": {},
     "output_type": "display_data"
    }
   ],
   "source": [
    "# text input\n",
    "txtml = widgets.Textarea(\n",
    " value=\"this is the default value\",\n",
    " placeholder=\"Type something\",\n",
    " description=\"Essay input\"\n",
    " )\n",
    "display(txtml)"
   ]
  },
  {
   "cell_type": "code",
   "execution_count": 11,
   "metadata": {},
   "outputs": [
    {
     "data": {
      "application/vnd.jupyter.widget-view+json": {
       "model_id": "36360dca3a2b43e3bf23c91355e1cea5",
       "version_major": 2,
       "version_minor": 0
      },
      "text/plain": [
       "ToggleButton(value=False, button_style='success', description='Cats?', icon='check', tooltip='Description')"
      ]
     },
     "metadata": {},
     "output_type": "display_data"
    },
    {
     "name": "stdout",
     "output_type": "stream",
     "text": [
      "False\n"
     ]
    }
   ],
   "source": [
    "# toggle button\n",
    "chk = widgets.ToggleButton(\n",
    " value=False,\n",
    " description=\"Cats?\",\n",
    " disabled=False,\n",
    " button_style=\"success\",\n",
    " tooltip=\"Description\",\n",
    " icon=\"check\")\n",
    "display(chk)\n",
    "# In another cell\n",
    "print(chk.value)"
   ]
  },
  {
   "cell_type": "code",
   "execution_count": 12,
   "metadata": {},
   "outputs": [
    {
     "data": {
      "application/vnd.jupyter.widget-view+json": {
       "model_id": "79917ec52a1f4db4973b55b4abe5f82e",
       "version_major": 2,
       "version_minor": 0
      },
      "text/plain": [
       "Checkbox(value=False, description='Click Me', indent=False)"
      ]
     },
     "metadata": {},
     "output_type": "display_data"
    }
   ],
   "source": [
    "# checkbox\n",
    "chkbox = widgets.Checkbox(\n",
    " value=False,\n",
    " description=\"Click Me\",\n",
    " disabled=False,\n",
    " indent=False # Indents the checkbox by 1 level\n",
    " )\n",
    "display(chkbox)"
   ]
  },
  {
   "cell_type": "code",
   "execution_count": 13,
   "metadata": {},
   "outputs": [
    {
     "data": {
      "application/vnd.jupyter.widget-view+json": {
       "model_id": "80b842ccc9474199a361bbeb09c59c7c",
       "version_major": 2,
       "version_minor": 0
      },
      "text/plain": [
       "RadioButtons(description='Unit', index=1, options=('km', 'm', 'cm', 'mm'), value='m')"
      ]
     },
     "metadata": {},
     "output_type": "display_data"
    }
   ],
   "source": [
    "# radio buttons\n",
    "chkbox = widgets.RadioButtons(\n",
    " options=[\"km\", \"m\", \"cm\",\"mm\"],\n",
    " value = \"m\",\n",
    " description=\"Unit\"\n",
    " )\n",
    "display(chkbox)"
   ]
  },
  {
   "cell_type": "code",
   "execution_count": 14,
   "metadata": {},
   "outputs": [
    {
     "data": {
      "application/vnd.jupyter.widget-view+json": {
       "model_id": "7cef5cea029c4aaab0cb39bfe70e0e66",
       "version_major": 2,
       "version_minor": 0
      },
      "text/plain": [
       "Select(description='Unit:', index=1, options=('km', 'm', 'cm', 'mm'), rows=3, value='m')"
      ]
     },
     "metadata": {},
     "output_type": "display_data"
    }
   ],
   "source": [
    "# selects\n",
    "sel = widgets.Select(\n",
    " options=[\"km\", \"m\", \"cm\",\"mm\"],\n",
    " value=\"m\",\n",
    " rows=3,\n",
    " description=\"Unit:\"\n",
    " )\n",
    "display(sel)"
   ]
  },
  {
   "cell_type": "code",
   "execution_count": 15,
   "metadata": {},
   "outputs": [
    {
     "data": {
      "application/vnd.jupyter.widget-view+json": {
       "model_id": "60a2a92346e04a579cbb9e477fdb8b23",
       "version_major": 2,
       "version_minor": 0
      },
      "text/plain": [
       "SelectMultiple(description='Unit:', index=(1,), options=('km', 'm', 'cm', 'mm'), rows=4, value=('m',))"
      ]
     },
     "metadata": {},
     "output_type": "display_data"
    },
    {
     "data": {
      "text/plain": [
       "('m',)"
      ]
     },
     "execution_count": 15,
     "metadata": {},
     "output_type": "execute_result"
    }
   ],
   "source": [
    "# selects\n",
    "vals = [\"km\", \"m\", \"cm\",\"mm\"]\n",
    "sel = widgets.SelectMultiple(\n",
    "        options=vals,\n",
    "        value=['m'],\n",
    "        rows=min(5, len(vals)),\n",
    "        description='Unit:'\n",
    "    )\n",
    "display(sel)\n",
    "# in a diffrent cell\n",
    "sel.value\n",
    "# (‘m’,)"
   ]
  },
  {
   "cell_type": "code",
   "execution_count": 16,
   "metadata": {},
   "outputs": [
    {
     "data": {
      "application/vnd.jupyter.widget-view+json": {
       "model_id": "66d6e1c734a5481e985d1e5621b7bfa0",
       "version_major": 2,
       "version_minor": 0
      },
      "text/plain": [
       "Dropdown(description='Number:', index=2, options=(0, 1, 2, 3, 4, 5, 6, 7, 8, 9), value=2)"
      ]
     },
     "metadata": {},
     "output_type": "display_data"
    }
   ],
   "source": [
    "# dropdown\n",
    "dropD = widgets.Dropdown(\n",
    " options=[i for i in range(10)],\n",
    " value=2,\n",
    " description=\"Number:\",\n",
    " disabled=False,\n",
    " )\n",
    "display(dropD)"
   ]
  },
  {
   "cell_type": "code",
   "execution_count": 2,
   "metadata": {},
   "outputs": [
    {
     "ename": "NameError",
     "evalue": "name 'widgets' is not defined",
     "output_type": "error",
     "traceback": [
      "\u001b[1;31m---------------------------------------------------------------------------\u001b[0m",
      "\u001b[1;31mNameError\u001b[0m                                 Traceback (most recent call last)",
      "\u001b[1;32m<ipython-input-2-6df8306c310d>\u001b[0m in \u001b[0;36m<module>\u001b[1;34m\u001b[0m\n\u001b[0;32m      1\u001b[0m \u001b[1;31m#date picker\u001b[0m\u001b[1;33m\u001b[0m\u001b[1;33m\u001b[0m\u001b[1;33m\u001b[0m\u001b[0m\n\u001b[0;32m      2\u001b[0m \u001b[1;32mimport\u001b[0m \u001b[0mdatetime\u001b[0m\u001b[1;33m\u001b[0m\u001b[1;33m\u001b[0m\u001b[0m\n\u001b[1;32m----> 3\u001b[1;33m dtpick = widgets.DatePicker(\n\u001b[0m\u001b[0;32m      4\u001b[0m  \u001b[0mdescription\u001b[0m\u001b[1;33m=\u001b[0m\u001b[1;34m\"Pick a Date\"\u001b[0m\u001b[1;33m,\u001b[0m\u001b[1;33m\u001b[0m\u001b[1;33m\u001b[0m\u001b[0m\n\u001b[0;32m      5\u001b[0m  \u001b[0mvalue\u001b[0m \u001b[1;33m=\u001b[0m \u001b[0mdatetime\u001b[0m\u001b[1;33m.\u001b[0m\u001b[0mdate\u001b[0m\u001b[1;33m(\u001b[0m\u001b[1;36m2020\u001b[0m\u001b[1;33m,\u001b[0m \u001b[1;36m5\u001b[0m\u001b[1;33m,\u001b[0m \u001b[1;36m16\u001b[0m\u001b[1;33m)\u001b[0m\u001b[1;33m\u001b[0m\u001b[1;33m\u001b[0m\u001b[0m\n",
      "\u001b[1;31mNameError\u001b[0m: name 'widgets' is not defined"
     ]
    }
   ],
   "source": [
    "#date picker\n",
    "import datetime\n",
    "dtpick = widgets.DatePicker(\n",
    " description=\"Pick a Date\",\n",
    " value = datetime.date(2020, 5, 16)\n",
    " )\n",
    "display(dtpick)\n",
    "# in a different cell\n",
    "dtpick.value\n",
    "# datetime.date(2020, 5, 16)"
   ]
  },
  {
   "cell_type": "code",
   "execution_count": 18,
   "metadata": {},
   "outputs": [
    {
     "data": {
      "application/vnd.jupyter.widget-view+json": {
       "model_id": "674db111190b4885b870cb55b954dbbf",
       "version_major": 2,
       "version_minor": 0
      },
      "text/plain": [
       "ColorPicker(value='#f70000', description='Pick a color')"
      ]
     },
     "metadata": {},
     "output_type": "display_data"
    },
    {
     "name": "stdout",
     "output_type": "stream",
     "text": [
      "#f70000\n",
      "[247, 0, 0]\n"
     ]
    }
   ],
   "source": [
    "# color picker\n",
    "clp = widgets.ColorPicker(\n",
    " concise=False,\n",
    " description=\"Pick a color\",\n",
    " value=\"#f70000\"\n",
    " )\n",
    "display(clp)\n",
    "# in a different cell\n",
    "print(clp.value)\n",
    "# #f70000\n",
    "# RGB Value\n",
    "def hexToRGB(hexa):\n",
    " return[int(hexa[1:][i:i+2], 16) for i in (0, 2, 4)]\n",
    "rgb = hexToRGB(clp.value)\n",
    "print(rgb)\n",
    "# [247, 0, 0]"
   ]
  },
  {
   "cell_type": "code",
   "execution_count": 20,
   "metadata": {},
   "outputs": [
    {
     "data": {
      "application/vnd.jupyter.widget-view+json": {
       "model_id": "71ab1ca3ecdf41649bfc134905f5c2d1",
       "version_major": 2,
       "version_minor": 0
      },
      "text/plain": [
       "interactive(children=(IntSlider(value=1, description='x', min=1), Output()), _dom_classes=('widget-interact',)…"
      ]
     },
     "metadata": {},
     "output_type": "display_data"
    },
    {
     "data": {
      "text/plain": [
       "<function __main__.myfunc(x)>"
      ]
     },
     "execution_count": 20,
     "metadata": {},
     "output_type": "execute_result"
    }
   ],
   "source": [
    "from ipywidgets import interact, interactive, fixed, interact_manual\n",
    "# this is a sample function\n",
    "def myfunc(x):\n",
    "    return x*2\n",
    "\n",
    "interact(myfunc,x=widgets.IntSlider(min=1,max=100,value=0))"
   ]
  },
  {
   "cell_type": "code",
   "execution_count": null,
   "metadata": {},
   "outputs": [],
   "source": [
    "# input text\n",
    "age =''\n",
    "age = input('how old are you? ')\n",
    "print(f'you are {age} years old')"
   ]
  },
  {
   "cell_type": "code",
   "execution_count": null,
   "metadata": {},
   "outputs": [],
   "source": [
    "from contextlib import contextmanager\n",
    "import builtins\n",
    "# may useful to test\n",
    "@contextmanager\n",
    "def repeat(answer: str):\n",
    "    try:\n",
    "        original_input = builtins.input\n",
    "        \n",
    "        def mock_input(*args, **kwargs):\n",
    "            return answer\n",
    "        \n",
    "        builtins.input = mock_input\n",
    "        yield\n",
    "    \n",
    "    finally:\n",
    "        builtins.input = original_input\n",
    "\n",
    "        \n",
    "#TEST\n",
    "with repeat('O'):\n",
    "    answer_1 = input('Continue?')\n",
    "    answer_2 = input('Continue?')\n",
    "    answer_3 = input('Continue?')\n",
    "    \n",
    "print(answer_1)\n",
    "print(answer_2)\n",
    "print(answer_3)\n"
   ]
  },
  {
   "cell_type": "code",
   "execution_count": null,
   "metadata": {},
   "outputs": [],
   "source": [
    "# run first and see a blank small window.  \n",
    "outputText = widgets.Text()\n",
    "outputText"
   ]
  },
  {
   "cell_type": "code",
   "execution_count": null,
   "metadata": {},
   "outputs": [],
   "source": [
    "#run second and type lower case\n",
    "inputText = widgets.Text()\n",
    "def makeUpperCase(sender):\n",
    "    outputText.value = inputText.value.upper()\n",
    "inputText.on_submit(makeUpperCase)\n",
    "inputText\n"
   ]
  },
  {
   "cell_type": "code",
   "execution_count": null,
   "metadata": {},
   "outputs": [],
   "source": []
  }
 ],
 "metadata": {
  "kernelspec": {
   "display_name": "Python 3",
   "language": "python",
   "name": "python3"
  },
  "language_info": {
   "codemirror_mode": {
    "name": "ipython",
    "version": 3
   },
   "file_extension": ".py",
   "mimetype": "text/x-python",
   "name": "python",
   "nbconvert_exporter": "python",
   "pygments_lexer": "ipython3",
   "version": "3.7.9"
  }
 },
 "nbformat": 4,
 "nbformat_minor": 4
}
