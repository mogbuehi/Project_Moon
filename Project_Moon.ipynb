{
 "cells": [
  {
   "cell_type": "markdown",
   "metadata": {},
   "source": [
    "file path for csv of interest: `'Data/crypto_data.csv'` , `'Data/sp500_data'` , `'Data/coin_list.csv'`"
   ]
  },
  {
   "cell_type": "code",
   "execution_count": 2,
   "metadata": {},
   "outputs": [],
   "source": [
    "# Necessary libraries\n",
    "import pandas as pd\n",
    "from Data.crypto_data import crypto_data_collector \n",
    "from Data.SPY_FAANGT_data import SPY_FAANGT_data\n",
    "%matplotlib inline"
   ]
  },
  {
   "cell_type": "code",
   "execution_count": 3,
   "metadata": {},
   "outputs": [
    {
     "name": "stdin",
     "output_type": "stream",
     "text": [
      "Would you like to reload (y or n)? n\n"
     ]
    },
    {
     "name": "stdout",
     "output_type": "stream",
     "text": [
      "            bitcoin prices  ethereum prices  binancecoin prices  \\\n",
      "time                                                              \n",
      "2021-05-13    50004.762183      3906.108903          602.435788   \n",
      "2021-05-14    49972.795398      3750.341595          569.752182   \n",
      "2021-05-15    49913.263144      4088.731708          602.905078   \n",
      "2021-05-16    46780.902305      3659.921844          563.505300   \n",
      "2021-05-17    46585.064135      3602.004897          563.878711   \n",
      "\n",
      "            ripple prices  cardano prices  dogecoin prices  tether prices  \\\n",
      "time                                                                        \n",
      "2021-05-13       1.287071        1.568219         0.415192       1.003192   \n",
      "2021-05-14       1.359471        1.942593         0.488936       0.992983   \n",
      "2021-05-15       1.407924        2.008497         0.564851       0.998631   \n",
      "2021-05-16       1.476855        2.170962         0.506792       0.995134   \n",
      "2021-05-17       1.459941        2.286209         0.515315       0.997647   \n",
      "\n",
      "            polkadot prices  bitcoin-cash prices  litecoin prices  ...  \\\n",
      "time                                                               ...   \n",
      "2021-05-13        35.366321          1245.301620       308.573745  ...   \n",
      "2021-05-14        40.104540          1258.211317       316.689529  ...   \n",
      "2021-05-15        47.332354          1310.235326       326.418807  ...   \n",
      "2021-05-16        43.190023          1175.603912       299.074282  ...   \n",
      "2021-05-17        42.495608          1178.169211       297.556125  ...   \n",
      "\n",
      "            sportx prices  unlend-finance prices  stafi prices  \\\n",
      "time                                                             \n",
      "2021-05-13       0.858399               1.459343      2.313160   \n",
      "2021-05-14       0.773936               1.400892      2.295836   \n",
      "2021-05-15       0.859535               1.498124      2.594128   \n",
      "2021-05-16       0.771490               1.340699      2.453671   \n",
      "2021-05-17       0.747346               1.327910      2.329341   \n",
      "\n",
      "            digitalbits prices  visor prices  suku prices  \\\n",
      "time                                                        \n",
      "2021-05-13            0.096280      2.118098     0.526514   \n",
      "2021-05-14            0.092858      2.243078     0.454543   \n",
      "2021-05-15            0.091655      2.608943     0.510122   \n",
      "2021-05-16            0.081034      2.383701     0.491660   \n",
      "2021-05-17            0.083078      2.471838     0.485731   \n",
      "\n",
      "            tornado-cash prices  telos prices  free-coin prices  \\\n",
      "time                                                              \n",
      "2021-05-13           106.858115      0.175748          0.000009   \n",
      "2021-05-14            98.602456      0.158048          0.000009   \n",
      "2021-05-15           108.198943      0.189519          0.000007   \n",
      "2021-05-16            94.384152      0.187752          0.000007   \n",
      "2021-05-17            91.058213      0.286535          0.000007   \n",
      "\n",
      "            swingby prices  \n",
      "time                        \n",
      "2021-05-13        0.278610  \n",
      "2021-05-14        0.249185  \n",
      "2021-05-15        0.265758  \n",
      "2021-05-16        0.250068  \n",
      "2021-05-17        0.264770  \n",
      "\n",
      "[5 rows x 500 columns]\n",
      "            SPY open  SPY high  SPY low  SPY close   SPY volume   FB open  \\\n",
      "date                                                                        \n",
      "2021-05-11    413.10    415.27   410.06     414.21  116887975.0  300.7500   \n",
      "2021-05-12    411.23    412.59   404.00     405.41  134811046.0  301.1300   \n",
      "2021-05-13    407.07    412.35   407.02     410.28  106393963.0  306.0833   \n",
      "2021-05-14    413.21    417.49   413.18     416.58   82201629.0  309.5400   \n",
      "2021-05-17    415.39    416.39   413.36     415.52   63127423.0  313.5500   \n",
      "\n",
      "            FB high    FB low  FB close   FB volume  ...  GOOG open  \\\n",
      "date                                                 ...              \n",
      "2021-05-11   306.84  299.6900    306.53  18920086.0  ...    2291.86   \n",
      "2021-05-12   304.96  298.1900    302.55  24641010.0  ...    2261.71   \n",
      "2021-05-13   308.86  302.7701    305.26  18079160.0  ...    2261.09   \n",
      "2021-05-14   316.85  309.0800    315.94  19245724.0  ...    2291.83   \n",
      "2021-05-17   315.68  311.5800    315.46  15356141.0  ...    2309.32   \n",
      "\n",
      "            GOOG high  GOOG low  GOOG close  GOOG volume  TSLA open  \\\n",
      "date                                                                  \n",
      "2021-05-11  2322.0000   2283.00     2308.76    1605548.0   599.2400   \n",
      "2021-05-12  2285.3700   2230.05     2239.08    1746664.0   602.4900   \n",
      "2021-05-13  2276.6012   2242.72     2261.97    1333508.0   601.5450   \n",
      "2021-05-14  2321.1400   2283.32     2316.16    1331248.0   583.4100   \n",
      "2021-05-17  2323.3400   2295.00     2321.41     991229.0   575.5531   \n",
      "\n",
      "            TSLA high  TSLA low  TSLA close  TSLA volume  \n",
      "date                                                      \n",
      "2021-05-11   627.0999   595.600      617.20   46503896.0  \n",
      "2021-05-12   620.4100   586.765      589.89   33823646.0  \n",
      "2021-05-13   606.4599   559.650      571.69   44184916.0  \n",
      "2021-05-14   592.8700   570.460      589.74   33370856.0  \n",
      "2021-05-17   589.7300   561.200      576.83   32118062.0  \n",
      "\n",
      "[5 rows x 35 columns]\n",
      "            SPY close  FB close  AAPL close  AMZN close  NFLX close  \\\n",
      "date                                                                  \n",
      "2021-05-11     414.21    306.53      125.91     3223.91      495.08   \n",
      "2021-05-12     405.41    302.55      122.77     3151.94      484.98   \n",
      "2021-05-13     410.28    305.26      124.97     3161.47      486.66   \n",
      "2021-05-14     416.58    315.94      127.45     3222.90      493.37   \n",
      "2021-05-17     415.52    315.46      126.27     3270.39      488.94   \n",
      "\n",
      "            GOOG close  TSLA close  \n",
      "date                                \n",
      "2021-05-11     2308.76      617.20  \n",
      "2021-05-12     2239.08      589.89  \n",
      "2021-05-13     2261.97      571.69  \n",
      "2021-05-14     2316.16      589.74  \n",
      "2021-05-17     2321.41      576.83  \n"
     ]
    }
   ],
   "source": [
    "user_start_date = '2013-01-01'\n",
    "user_end_date = '2021-05-14'\n",
    "\n",
    "#if user inputs 'y', API calls made to Alpha Vantage and Coin Gecko to collect and overwrite existing data, else \n",
    "reload_response = input('Would you like to reload (y or n)?')\n",
    "if reload_response == 'y':\n",
    "    start_date = input('What start date would you like to begin the analysis?  YYYY-MM-DD format')\n",
    "    end_date = input('What end date would you like to begin the analysis? enter custom date in YYYY-MM-DD format or \"today\"')\n",
    "    SPY_FAANGT_df, SPY_FAANGT_close_df = SPY_FAANGT_data()\n",
    "    crypto_price_df = crypto_data_collector(start_date, end_date) # only way to save a df from a function https://stackoverflow.com/questions/45579525/returning-a-dataframe-in-python-function\n",
    "    print('crypto_price_data.csv saved, dataframe loaded with datetime index as `coin_historical_df`')\n",
    "    \n",
    "crypto_price_df = pd.read_csv('Data/csv_files/crypto_price_data.csv', \n",
    "                                parse_dates=True, \n",
    "                                infer_datetime_format=True,\n",
    "                                index_col='time').rename(index={'time': 'date'}) \n",
    "SPY_FAANGT_df = pd.read_csv('Data/csv_files/SPY_FAANGT_data.csv',\n",
    "                            parse_dates=True, \n",
    "                            infer_datetime_format=True,\n",
    "                            index_col='date')\n",
    "SPY_FAANGT_close_df = pd.read_csv('Data/csv_files/SPY_FAANGT_close_data.csv',\n",
    "                                    parse_dates=True, \n",
    "                                    infer_datetime_format=True,\n",
    "                                    index_col='date')\n",
    "\n",
    "print(f'''{crypto_price_df.tail()}\n",
    "{SPY_FAANGT_df.tail()}\n",
    "{SPY_FAANGT_close_df.tail()}''')\n"
   ]
  },
  {
   "cell_type": "code",
   "execution_count": null,
   "metadata": {},
   "outputs": [],
   "source": [
    "#Annualized PCT Change and compare \n",
    "# SF_cum_pct_change = placeholder_pct_change_fxn() to create dfs with daily pct_change after slicing SPY_FAANG from user input start date or 0th date: -1th date of crypto data\n",
    "# crypto_cum_pct_change = placeholder_pct_change_fxn() to create dfs with daily pct_change\n",
    "# SF_cum_pct_change =placeholder_cumulative_pct_change_fxn to create dfs\n",
    "#plot the top best performing cryptos to date average returns of top 10 performing cryptos during time period DO NOT RUN THIS CELL\n",
    "    # create a data frame that "
   ]
  },
  {
   "cell_type": "code",
   "execution_count": 3,
   "metadata": {},
   "outputs": [],
   "source": [
    "#Calculate Volatility (Variance and Covariance against SP500 (SPY) FAANGT = Facebook, Amazon, Apple, Google, Netflix, Tesla)"
   ]
  },
  {
   "cell_type": "code",
   "execution_count": null,
   "metadata": {},
   "outputs": [],
   "source": []
  },
  {
   "cell_type": "code",
   "execution_count": null,
   "metadata": {},
   "outputs": [],
   "source": [
    "#Calculate Sharpe Ratio () SPY_FAANGT_close and crypto_close"
   ]
  },
  {
   "cell_type": "code",
   "execution_count": null,
   "metadata": {},
   "outputs": [],
   "source": [
    "#Calculate Beta () of SPY_FAANGT_close and crypto_close"
   ]
  }
 ],
 "metadata": {
  "kernelspec": {
   "display_name": "Python (dev)",
   "language": "python",
   "name": "dev"
  },
  "language_info": {
   "codemirror_mode": {
    "name": "ipython",
    "version": 3
   },
   "file_extension": ".py",
   "mimetype": "text/x-python",
   "name": "python",
   "nbconvert_exporter": "python",
   "pygments_lexer": "ipython3",
   "version": "3.7.9"
  }
 },
 "nbformat": 4,
 "nbformat_minor": 4
}
