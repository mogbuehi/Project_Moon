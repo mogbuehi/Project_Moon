{
 "cells": [
  {
   "cell_type": "raw",
   "metadata": {},
   "source": [
    "UX in Jupyter — User input essentials\n",
    "https://github.com/jupyter-widgets/ipywidgets"
   ]
  },
  {
   "cell_type": "code",
   "execution_count": 4,
   "metadata": {},
   "outputs": [],
   "source": [
    "from ipywidgets import widgets"
   ]
  },
  {
   "cell_type": "code",
   "execution_count": 5,
   "metadata": {},
   "outputs": [
    {
     "data": {
      "application/vnd.jupyter.widget-view+json": {
       "model_id": "b4caf93122254e53a9dd23c3882a4e27",
       "version_major": 2,
       "version_minor": 0
      },
      "text/plain": [
       "Checkbox(value=False, description='Click Me', indent=False)"
      ]
     },
     "metadata": {},
     "output_type": "display_data"
    }
   ],
   "source": [
    "chkbox = widgets.Checkbox(\n",
    " value=False,\n",
    " description=\"Click Me\",\n",
    " disabled=False,\n",
    " indent=False # Indents the checkbox by 1 level\n",
    " )\n",
    "display(chkbox)"
   ]
  },
  {
   "cell_type": "code",
   "execution_count": 6,
   "metadata": {},
   "outputs": [
    {
     "data": {
      "application/vnd.jupyter.widget-view+json": {
       "model_id": "df99821c13ce4059a4ec9111eb795e53",
       "version_major": 2,
       "version_minor": 0
      },
      "text/plain": [
       "IntSlider(value=7, description='Cats:', max=10)"
      ]
     },
     "metadata": {},
     "output_type": "display_data"
    },
    {
     "name": "stdout",
     "output_type": "stream",
     "text": [
      "7\n"
     ]
    }
   ],
   "source": [
    "# integer slider\n",
    "slider = widgets.IntSlider(\n",
    " value=7, # default value\n",
    " min=0, # min value\n",
    " max=10, # max value\n",
    " step=1, # incriment size\n",
    " description=\"Cats:\" # slider label\n",
    ")\n",
    "display(slider) # display the slider\n",
    "# In another cell\n",
    "print(slider.value) # get the value of the slider"
   ]
  },
  {
   "cell_type": "code",
   "execution_count": 7,
   "metadata": {},
   "outputs": [
    {
     "data": {
      "application/vnd.jupyter.widget-view+json": {
       "model_id": "b86cc440c81740c9a10446459e018295",
       "version_major": 2,
       "version_minor": 0
      },
      "text/plain": [
       "FloatLogSlider(value=10.0, description='Log Slider', max=10.0, min=-10.0, step=0.2)"
      ]
     },
     "metadata": {},
     "output_type": "display_data"
    }
   ],
   "source": [
    "# float slider\n",
    "slider = widgets.FloatLogSlider(\n",
    " value=10, # default value\n",
    " base=10, # log base\n",
    " min=-10, # max exponent of base\n",
    " max=10, # min exponent of base\n",
    " step=0.2, # exponent step\n",
    " description=\"Log Slider\"\n",
    ")\n",
    "display(slider)"
   ]
  },
  {
   "cell_type": "code",
   "execution_count": 8,
   "metadata": {},
   "outputs": [
    {
     "data": {
      "application/vnd.jupyter.widget-view+json": {
       "model_id": "75aa09f73523486ebafe703ef5b96c32",
       "version_major": 2,
       "version_minor": 0
      },
      "text/plain": [
       "BoundedIntText(value=7, description='Text:', max=10)"
      ]
     },
     "metadata": {},
     "output_type": "display_data"
    }
   ],
   "source": [
    "# BoundedIntText\n",
    "btb = widgets.BoundedIntText(\n",
    " value=7,\n",
    " min=0,\n",
    " max=10,\n",
    " description = \"Text:\"\n",
    ")\n",
    "display(btb)\n"
   ]
  },
  {
   "cell_type": "code",
   "execution_count": 9,
   "metadata": {},
   "outputs": [
    {
     "data": {
      "application/vnd.jupyter.widget-view+json": {
       "model_id": "3210c2c8cd4f4894a5d152c4164d490f",
       "version_major": 2,
       "version_minor": 0
      },
      "text/plain": [
       "BoundedFloatText(value=7.5, description='Text:', max=10.0)"
      ]
     },
     "metadata": {},
     "output_type": "display_data"
    }
   ],
   "source": [
    "# BoundedFloatText\n",
    "btb = widgets.BoundedFloatText(\n",
    " value=7.5,\n",
    " min=0,\n",
    " max=10.0,\n",
    " description=\"Text:\"\n",
    ")\n",
    "display(btb)"
   ]
  },
  {
   "cell_type": "code",
   "execution_count": 10,
   "metadata": {},
   "outputs": [
    {
     "data": {
      "application/vnd.jupyter.widget-view+json": {
       "model_id": "b62fc54511734e808a514ebbbdaf541f",
       "version_major": 2,
       "version_minor": 0
      },
      "text/plain": [
       "IntText(value=7, description='Text:')"
      ]
     },
     "metadata": {},
     "output_type": "display_data"
    }
   ],
   "source": [
    "# IntText\n",
    "btb = widgets.IntText(\n",
    " value=7,\n",
    " description=\"Text:\"\n",
    " )\n",
    "display(btb)\n"
   ]
  },
  {
   "cell_type": "code",
   "execution_count": 11,
   "metadata": {},
   "outputs": [
    {
     "data": {
      "application/vnd.jupyter.widget-view+json": {
       "model_id": "c2c0845aab134a229e9c6369662bed36",
       "version_major": 2,
       "version_minor": 0
      },
      "text/plain": [
       "FloatText(value=7.3, description='Text:')"
      ]
     },
     "metadata": {},
     "output_type": "display_data"
    }
   ],
   "source": [
    "# FloatText\n",
    "btb = widgets.FloatText(\n",
    " value=7.3,\n",
    " description=\"Text:\"\n",
    " )\n",
    "display(btb)"
   ]
  },
  {
   "cell_type": "code",
   "execution_count": 12,
   "metadata": {},
   "outputs": [
    {
     "data": {
      "application/vnd.jupyter.widget-view+json": {
       "model_id": "c70e0b1aa1aa4dd1946efa47bc7ac6f5",
       "version_major": 2,
       "version_minor": 0
      },
      "text/plain": [
       "Text(value='', description='Name:', placeholder='Enter you name')"
      ]
     },
     "metadata": {},
     "output_type": "display_data"
    }
   ],
   "source": [
    "# text input\n",
    "txtsl = widgets.Text(\n",
    " placeholder=\"Enter you name\",\n",
    " description=\"Name:\"\n",
    " )\n",
    "display(txtsl)"
   ]
  },
  {
   "cell_type": "code",
   "execution_count": 13,
   "metadata": {},
   "outputs": [
    {
     "data": {
      "application/vnd.jupyter.widget-view+json": {
       "model_id": "270ab55044ee452394d77ef73dcb118f",
       "version_major": 2,
       "version_minor": 0
      },
      "text/plain": [
       "Textarea(value='this is the default value', description='Essay input', placeholder='Type something')"
      ]
     },
     "metadata": {},
     "output_type": "display_data"
    }
   ],
   "source": [
    "# text input\n",
    "txtml = widgets.Textarea(\n",
    " value=\"this is the default value\",\n",
    " placeholder=\"Type something\",\n",
    " description=\"Essay input\"\n",
    " )\n",
    "display(txtml)"
   ]
  },
  {
   "cell_type": "code",
   "execution_count": 14,
   "metadata": {},
   "outputs": [
    {
     "data": {
      "application/vnd.jupyter.widget-view+json": {
       "model_id": "9c06635bba2d44c2ad677a51daf0febd",
       "version_major": 2,
       "version_minor": 0
      },
      "text/plain": [
       "ToggleButton(value=False, button_style='success', description='Cats?', icon='check', tooltip='Description')"
      ]
     },
     "metadata": {},
     "output_type": "display_data"
    },
    {
     "name": "stdout",
     "output_type": "stream",
     "text": [
      "False\n"
     ]
    }
   ],
   "source": [
    "# toggle button\n",
    "chk = widgets.ToggleButton(\n",
    " value=False,\n",
    " description=\"Cats?\",\n",
    " disabled=False,\n",
    " button_style=\"success\",\n",
    " tooltip=\"Description\",\n",
    " icon=\"check\")\n",
    "display(chk)\n",
    "# In another cell\n",
    "print(chk.value)"
   ]
  },
  {
   "cell_type": "code",
   "execution_count": 15,
   "metadata": {},
   "outputs": [
    {
     "data": {
      "application/vnd.jupyter.widget-view+json": {
       "model_id": "fab18723652d4685b7c1bcbeeebfa498",
       "version_major": 2,
       "version_minor": 0
      },
      "text/plain": [
       "Checkbox(value=False, description='Click Me', indent=False)"
      ]
     },
     "metadata": {},
     "output_type": "display_data"
    }
   ],
   "source": [
    "# checkbox\n",
    "chkbox = widgets.Checkbox(\n",
    " value=False,\n",
    " description=\"Click Me\",\n",
    " disabled=False,\n",
    " indent=False # Indents the checkbox by 1 level\n",
    " )\n",
    "display(chkbox)"
   ]
  },
  {
   "cell_type": "code",
   "execution_count": 16,
   "metadata": {},
   "outputs": [
    {
     "data": {
      "application/vnd.jupyter.widget-view+json": {
       "model_id": "5849ab2689874a7d8d1612d067478808",
       "version_major": 2,
       "version_minor": 0
      },
      "text/plain": [
       "RadioButtons(description='Unit', index=1, options=('km', 'm', 'cm', 'mm'), value='m')"
      ]
     },
     "metadata": {},
     "output_type": "display_data"
    }
   ],
   "source": [
    "# radio buttons\n",
    "chkbox = widgets.RadioButtons(\n",
    " options=[\"km\", \"m\", \"cm\",\"mm\"],\n",
    " value = \"m\",\n",
    " description=\"Unit\"\n",
    " )\n",
    "display(chkbox)"
   ]
  },
  {
   "cell_type": "code",
   "execution_count": 17,
   "metadata": {},
   "outputs": [
    {
     "data": {
      "application/vnd.jupyter.widget-view+json": {
       "model_id": "931f0ddc4f1e4e45967d8d4da0d01f14",
       "version_major": 2,
       "version_minor": 0
      },
      "text/plain": [
       "Select(description='Unit:', index=1, options=('km', 'm', 'cm', 'mm'), rows=3, value='m')"
      ]
     },
     "metadata": {},
     "output_type": "display_data"
    }
   ],
   "source": [
    "# selects\n",
    "sel = widgets.Select(\n",
    " options=[\"km\", \"m\", \"cm\",\"mm\"],\n",
    " value=\"m\",\n",
    " rows=3,\n",
    " description=\"Unit:\"\n",
    " )\n",
    "display(sel)"
   ]
  },
  {
   "cell_type": "code",
   "execution_count": 18,
   "metadata": {},
   "outputs": [
    {
     "data": {
      "application/vnd.jupyter.widget-view+json": {
       "model_id": "486af59ece37413882696e2a9a27a441",
       "version_major": 2,
       "version_minor": 0
      },
      "text/plain": [
       "SelectMultiple(description='Unit:', index=(1,), options=('km', 'm', 'cm', 'mm'), rows=4, value=('m',))"
      ]
     },
     "metadata": {},
     "output_type": "display_data"
    },
    {
     "data": {
      "text/plain": [
       "('m',)"
      ]
     },
     "execution_count": 18,
     "metadata": {},
     "output_type": "execute_result"
    }
   ],
   "source": [
    "# selects\n",
    "vals = [\"km\", \"m\", \"cm\",\"mm\"]\n",
    "sel = widgets.SelectMultiple(\n",
    "        options=vals,\n",
    "        value=['m'],\n",
    "        rows=min(5, len(vals)),\n",
    "        description='Unit:'\n",
    "    )\n",
    "display(sel)\n",
    "# in a diffrent cell\n",
    "sel.value\n",
    "# (‘m’,)"
   ]
  },
  {
   "cell_type": "code",
   "execution_count": 19,
   "metadata": {},
   "outputs": [
    {
     "data": {
      "application/vnd.jupyter.widget-view+json": {
       "model_id": "a61ee9c856994e1a92fe261d0977a274",
       "version_major": 2,
       "version_minor": 0
      },
      "text/plain": [
       "Dropdown(description='Number:', index=2, options=(0, 1, 2, 3, 4, 5, 6, 7, 8, 9), value=2)"
      ]
     },
     "metadata": {},
     "output_type": "display_data"
    }
   ],
   "source": [
    "# dropdown\n",
    "dropD = widgets.Dropdown(\n",
    " options=[i for i in range(10)],\n",
    " value=2,\n",
    " description=\"Number:\",\n",
    " disabled=False,\n",
    " )\n",
    "display(dropD)"
   ]
  },
  {
   "cell_type": "code",
   "execution_count": 20,
   "metadata": {},
   "outputs": [
    {
     "data": {
      "application/vnd.jupyter.widget-view+json": {
       "model_id": "71a39d307e31464cbdc6f230dbbbfad1",
       "version_major": 2,
       "version_minor": 0
      },
      "text/plain": [
       "DatePicker(value=datetime.date(2020, 5, 16), description='Pick a Date')"
      ]
     },
     "metadata": {},
     "output_type": "display_data"
    },
    {
     "data": {
      "text/plain": [
       "datetime.date(2020, 5, 16)"
      ]
     },
     "execution_count": 20,
     "metadata": {},
     "output_type": "execute_result"
    }
   ],
   "source": [
    "#date picker\n",
    "import datetime\n",
    "dtpick = widgets.DatePicker(\n",
    " description=\"Pick a Date\",\n",
    " value = datetime.date(2020, 5, 16)\n",
    " )\n",
    "display(dtpick)\n",
    "# in a different cell\n",
    "dtpick.value\n",
    "# datetime.date(2020, 5, 16)"
   ]
  },
  {
   "cell_type": "code",
   "execution_count": 18,
   "metadata": {},
   "outputs": [
    {
     "data": {
      "application/vnd.jupyter.widget-view+json": {
       "model_id": "674db111190b4885b870cb55b954dbbf",
       "version_major": 2,
       "version_minor": 0
      },
      "text/plain": [
       "ColorPicker(value='#f70000', description='Pick a color')"
      ]
     },
     "metadata": {},
     "output_type": "display_data"
    },
    {
     "name": "stdout",
     "output_type": "stream",
     "text": [
      "#f70000\n",
      "[247, 0, 0]\n"
     ]
    }
   ],
   "source": [
    "# color picker\n",
    "clp = widgets.ColorPicker(\n",
    " concise=False,\n",
    " description=\"Pick a color\",\n",
    " value=\"#f70000\"\n",
    " )\n",
    "display(clp)\n",
    "# in a different cell\n",
    "print(clp.value)\n",
    "# #f70000\n",
    "# RGB Value\n",
    "def hexToRGB(hexa):\n",
    " return[int(hexa[1:][i:i+2], 16) for i in (0, 2, 4)]\n",
    "rgb = hexToRGB(clp.value)\n",
    "print(rgb)\n",
    "# [247, 0, 0]"
   ]
  },
  {
   "cell_type": "code",
   "execution_count": 20,
   "metadata": {},
   "outputs": [
    {
     "data": {
      "application/vnd.jupyter.widget-view+json": {
       "model_id": "71ab1ca3ecdf41649bfc134905f5c2d1",
       "version_major": 2,
       "version_minor": 0
      },
      "text/plain": [
       "interactive(children=(IntSlider(value=1, description='x', min=1), Output()), _dom_classes=('widget-interact',)…"
      ]
     },
     "metadata": {},
     "output_type": "display_data"
    },
    {
     "data": {
      "text/plain": [
       "<function __main__.myfunc(x)>"
      ]
     },
     "execution_count": 20,
     "metadata": {},
     "output_type": "execute_result"
    }
   ],
   "source": [
    "from ipywidgets import interact, interactive, fixed, interact_manual\n",
    "# this is a sample function\n",
    "def myfunc(x):\n",
    "    return x*2\n",
    "\n",
    "interact(myfunc,x=widgets.IntSlider(min=1,max=100,value=0))"
   ]
  },
  {
   "cell_type": "code",
   "execution_count": null,
   "metadata": {},
   "outputs": [],
   "source": [
    "# input text\n",
    "age =''\n",
    "age = input('how old are you? ')\n",
    "print(f'you are {age} years old')"
   ]
  },
  {
   "cell_type": "code",
   "execution_count": null,
   "metadata": {},
   "outputs": [],
   "source": [
    "from contextlib import contextmanager\n",
    "import builtins\n",
    "# may useful to test\n",
    "@contextmanager\n",
    "def repeat(answer: str):\n",
    "    try:\n",
    "        original_input = builtins.input\n",
    "        \n",
    "        def mock_input(*args, **kwargs):\n",
    "            return answer\n",
    "        \n",
    "        builtins.input = mock_input\n",
    "        yield\n",
    "    \n",
    "    finally:\n",
    "        builtins.input = original_input\n",
    "\n",
    "        \n",
    "#TEST\n",
    "with repeat('O'):\n",
    "    answer_1 = input('Continue?')\n",
    "    answer_2 = input('Continue?')\n",
    "    answer_3 = input('Continue?')\n",
    "    \n",
    "print(answer_1)\n",
    "print(answer_2)\n",
    "print(answer_3)\n"
   ]
  },
  {
   "cell_type": "code",
   "execution_count": null,
   "metadata": {},
   "outputs": [],
   "source": [
    "# run first and see a blank small window.  \n",
    "outputText = widgets.Text()\n",
    "outputText"
   ]
  },
  {
   "cell_type": "code",
   "execution_count": null,
   "metadata": {},
   "outputs": [],
   "source": [
    "#run second and type lower case\n",
    "inputText = widgets.Text()\n",
    "def makeUpperCase(sender):\n",
    "    outputText.value = inputText.value.upper()\n",
    "inputText.on_submit(makeUpperCase)\n",
    "inputText\n"
   ]
  },
  {
   "cell_type": "code",
   "execution_count": null,
   "metadata": {},
   "outputs": [],
   "source": [
    "def calc_pct(some_df):\n",
    "    some_df.pct().dropna()\n",
    "    return some_df.\n",
    "\n",
    "response_uster = input('would you like to see pct change')\n",
    "if response_user =='y':\n",
    "    plo"
   ]
  },
  {
   "cell_type": "code",
   "execution_count": 21,
   "metadata": {},
   "outputs": [
    {
     "name": "stdout",
     "output_type": "stream",
     "text": [
      "Help on class HTTPError in module urllib.error:\n",
      "\n",
      "class HTTPError(URLError, urllib.response.addinfourl)\n",
      " |  HTTPError(url, code, msg, hdrs, fp)\n",
      " |  \n",
      " |  Raised when HTTP error occurs, but also acts like non-error return\n",
      " |  \n",
      " |  Method resolution order:\n",
      " |      HTTPError\n",
      " |      URLError\n",
      " |      builtins.OSError\n",
      " |      builtins.Exception\n",
      " |      builtins.BaseException\n",
      " |      urllib.response.addinfourl\n",
      " |      urllib.response.addinfo\n",
      " |      urllib.response.addbase\n",
      " |      tempfile._TemporaryFileWrapper\n",
      " |      builtins.object\n",
      " |  \n",
      " |  Methods defined here:\n",
      " |  \n",
      " |  __init__(self, url, code, msg, hdrs, fp)\n",
      " |      Initialize self.  See help(type(self)) for accurate signature.\n",
      " |  \n",
      " |  __repr__(self)\n",
      " |      Return repr(self).\n",
      " |  \n",
      " |  __str__(self)\n",
      " |      Return str(self).\n",
      " |  \n",
      " |  ----------------------------------------------------------------------\n",
      " |  Data descriptors defined here:\n",
      " |  \n",
      " |  headers\n",
      " |  \n",
      " |  reason\n",
      " |  \n",
      " |  ----------------------------------------------------------------------\n",
      " |  Data descriptors inherited from URLError:\n",
      " |  \n",
      " |  __weakref__\n",
      " |      list of weak references to the object (if defined)\n",
      " |  \n",
      " |  ----------------------------------------------------------------------\n",
      " |  Methods inherited from builtins.OSError:\n",
      " |  \n",
      " |  __reduce__(...)\n",
      " |      Helper for pickle.\n",
      " |  \n",
      " |  ----------------------------------------------------------------------\n",
      " |  Static methods inherited from builtins.OSError:\n",
      " |  \n",
      " |  __new__(*args, **kwargs) from builtins.type\n",
      " |      Create and return a new object.  See help(type) for accurate signature.\n",
      " |  \n",
      " |  ----------------------------------------------------------------------\n",
      " |  Data descriptors inherited from builtins.OSError:\n",
      " |  \n",
      " |  characters_written\n",
      " |  \n",
      " |  errno\n",
      " |      POSIX exception code\n",
      " |  \n",
      " |  filename\n",
      " |      exception filename\n",
      " |  \n",
      " |  filename2\n",
      " |      second exception filename\n",
      " |  \n",
      " |  strerror\n",
      " |      exception strerror\n",
      " |  \n",
      " |  winerror\n",
      " |      Win32 exception code\n",
      " |  \n",
      " |  ----------------------------------------------------------------------\n",
      " |  Methods inherited from builtins.BaseException:\n",
      " |  \n",
      " |  __delattr__(self, name, /)\n",
      " |      Implement delattr(self, name).\n",
      " |  \n",
      " |  __getattribute__(self, name, /)\n",
      " |      Return getattr(self, name).\n",
      " |  \n",
      " |  __setattr__(self, name, value, /)\n",
      " |      Implement setattr(self, name, value).\n",
      " |  \n",
      " |  __setstate__(...)\n",
      " |  \n",
      " |  with_traceback(...)\n",
      " |      Exception.with_traceback(tb) --\n",
      " |      set self.__traceback__ to tb and return self.\n",
      " |  \n",
      " |  ----------------------------------------------------------------------\n",
      " |  Data descriptors inherited from builtins.BaseException:\n",
      " |  \n",
      " |  __cause__\n",
      " |      exception cause\n",
      " |  \n",
      " |  __context__\n",
      " |      exception context\n",
      " |  \n",
      " |  __dict__\n",
      " |  \n",
      " |  __suppress_context__\n",
      " |  \n",
      " |  __traceback__\n",
      " |  \n",
      " |  args\n",
      " |  \n",
      " |  ----------------------------------------------------------------------\n",
      " |  Methods inherited from urllib.response.addinfourl:\n",
      " |  \n",
      " |  getcode(self)\n",
      " |  \n",
      " |  geturl(self)\n",
      " |  \n",
      " |  ----------------------------------------------------------------------\n",
      " |  Methods inherited from urllib.response.addinfo:\n",
      " |  \n",
      " |  info(self)\n",
      " |  \n",
      " |  ----------------------------------------------------------------------\n",
      " |  Methods inherited from urllib.response.addbase:\n",
      " |  \n",
      " |  __enter__(self)\n",
      " |  \n",
      " |  __exit__(self, type, value, traceback)\n",
      " |  \n",
      " |  ----------------------------------------------------------------------\n",
      " |  Methods inherited from tempfile._TemporaryFileWrapper:\n",
      " |  \n",
      " |  __getattr__(self, name)\n",
      " |  \n",
      " |  __iter__(self)\n",
      " |      # iter() doesn't use __getattr__ to find the __iter__ method\n",
      " |  \n",
      " |  close(self)\n",
      " |      Close the temporary file, possibly deleting it.\n",
      "\n"
     ]
    }
   ],
   "source": [
    "from urllib.error import HTTPError\n",
    "help(HTTPError)"
   ]
  },
  {
   "cell_type": "code",
   "execution_count": null,
   "metadata": {},
   "outputs": [],
   "source": []
  }
 ],
 "metadata": {
  "kernelspec": {
   "display_name": "Python 3",
   "language": "python",
   "name": "python3"
  },
  "language_info": {
   "codemirror_mode": {
    "name": "ipython",
    "version": 3
   },
   "file_extension": ".py",
   "mimetype": "text/x-python",
   "name": "python",
   "nbconvert_exporter": "python",
   "pygments_lexer": "ipython3",
   "version": "3.7.9"
  }
 },
 "nbformat": 4,
 "nbformat_minor": 4
}
