{
 "cells": [
  {
   "cell_type": "raw",
   "metadata": {},
   "source": [
    "Analyzing Portfolio Risk and Return\n",
    "https://github.com/jupyter-widgets/ipywidgets"
   ]
  },
  {
   "cell_type": "code",
   "execution_count": 4,
   "metadata": {},
   "outputs": [
    {
     "data": {
      "application/vnd.jupyter.widget-view+json": {
       "model_id": "29da28cfe4d6484c971e3c763df3605c",
       "version_major": 2,
       "version_minor": 0
      },
      "text/plain": [
       "Checkbox(value=False, description='Click Me', indent=False)"
      ]
     },
     "metadata": {},
     "output_type": "display_data"
    }
   ],
   "source": [
    "chkbox = widgets.Checkbox(\n",
    " value=False,\n",
    " description=\"Click Me\",\n",
    " disabled=False,\n",
    " indent=False # Indents the checkbox by 1 level\n",
    " )\n",
    "display(chkbox)"
   ]
  },
  {
   "cell_type": "code",
   "execution_count": 13,
   "metadata": {},
   "outputs": [
    {
     "data": {
      "application/vnd.jupyter.widget-view+json": {
       "model_id": "184884d2e4eb471b8beb87ff6f2d6441",
       "version_major": 2,
       "version_minor": 0
      },
      "text/plain": [
       "IntSlider(value=7, description='Cats:', max=10)"
      ]
     },
     "metadata": {},
     "output_type": "display_data"
    },
    {
     "name": "stdout",
     "output_type": "stream",
     "text": [
      "7\n"
     ]
    }
   ],
   "source": [
    "# integer slider\n",
    "slider = widgets.IntSlider(\n",
    " value=7, # default value\n",
    " min=0, # min value\n",
    " max=10, # max value\n",
    " step=1, # incriment size\n",
    " description=\"Cats:\" # slider label\n",
    ")\n",
    "display(slider) # display the slider\n",
    "# In another cell\n",
    "print(slider.value) # get the value of the slider"
   ]
  },
  {
   "cell_type": "code",
   "execution_count": 14,
   "metadata": {},
   "outputs": [
    {
     "data": {
      "application/vnd.jupyter.widget-view+json": {
       "model_id": "6fc62154c520486cae531f1c6d52c916",
       "version_major": 2,
       "version_minor": 0
      },
      "text/plain": [
       "FloatLogSlider(value=10.0, description='Log Slider', max=10.0, min=-10.0, step=0.2)"
      ]
     },
     "metadata": {},
     "output_type": "display_data"
    }
   ],
   "source": [
    "# float slider\n",
    "slider = widgets.FloatLogSlider(\n",
    " value=10, # default value\n",
    " base=10, # log base\n",
    " min=-10, # max exponent of base\n",
    " max=10, # min exponent of base\n",
    " step=0.2, # exponent step\n",
    " description=\"Log Slider\"\n",
    ")\n",
    "display(slider)"
   ]
  },
  {
   "cell_type": "code",
   "execution_count": 24,
   "metadata": {},
   "outputs": [
    {
     "data": {
      "application/vnd.jupyter.widget-view+json": {
       "model_id": "9e4174b7b9cb4b938f5d42f357433c73",
       "version_major": 2,
       "version_minor": 0
      },
      "text/plain": [
       "BoundedIntText(value=7, description='Text:', max=10)"
      ]
     },
     "metadata": {},
     "output_type": "display_data"
    }
   ],
   "source": [
    "# BoundedIntText\n",
    "btb = widgets.BoundedIntText(\n",
    " value=7,\n",
    " min=0,\n",
    " max=10,\n",
    " description = \"Text:\"\n",
    ")\n",
    "display(btb)\n"
   ]
  },
  {
   "cell_type": "code",
   "execution_count": 23,
   "metadata": {},
   "outputs": [
    {
     "data": {
      "application/vnd.jupyter.widget-view+json": {
       "model_id": "2deebc051a26445abe5c9a89a9ec4fb7",
       "version_major": 2,
       "version_minor": 0
      },
      "text/plain": [
       "BoundedFloatText(value=7.5, description='Text:', max=10.0)"
      ]
     },
     "metadata": {},
     "output_type": "display_data"
    }
   ],
   "source": [
    "# BoundedFloatText\n",
    "btb = widgets.BoundedFloatText(\n",
    " value=7.5,\n",
    " min=0,\n",
    " max=10.0,\n",
    " description=\"Text:\"\n",
    ")\n",
    "display(btb)"
   ]
  },
  {
   "cell_type": "code",
   "execution_count": 25,
   "metadata": {},
   "outputs": [
    {
     "data": {
      "application/vnd.jupyter.widget-view+json": {
       "model_id": "83ae5f54549749668c88634ec8d3d06c",
       "version_major": 2,
       "version_minor": 0
      },
      "text/plain": [
       "IntText(value=7, description='Text:')"
      ]
     },
     "metadata": {},
     "output_type": "display_data"
    }
   ],
   "source": [
    "# IntText\n",
    "btb = widgets.IntText(\n",
    " value=7,\n",
    " description=\"Text:\"\n",
    " )\n",
    "display(btb)\n"
   ]
  },
  {
   "cell_type": "code",
   "execution_count": 26,
   "metadata": {},
   "outputs": [
    {
     "data": {
      "application/vnd.jupyter.widget-view+json": {
       "model_id": "1edb02d79e5948d59b181f15e23b87a5",
       "version_major": 2,
       "version_minor": 0
      },
      "text/plain": [
       "FloatText(value=7.3, description='Text:')"
      ]
     },
     "metadata": {},
     "output_type": "display_data"
    }
   ],
   "source": [
    "# FloatText\n",
    "btb = widgets.FloatText(\n",
    " value=7.3,\n",
    " description=\"Text:\"\n",
    " )\n",
    "display(btb)"
   ]
  },
  {
   "cell_type": "code",
   "execution_count": 28,
   "metadata": {},
   "outputs": [
    {
     "data": {
      "application/vnd.jupyter.widget-view+json": {
       "model_id": "55d3024a498c45d4b9ed03f2352081ea",
       "version_major": 2,
       "version_minor": 0
      },
      "text/plain": [
       "Text(value='', description='Name:', placeholder='Enter you name')"
      ]
     },
     "metadata": {},
     "output_type": "display_data"
    }
   ],
   "source": [
    "# text input\n",
    "txtsl = widgets.Text(\n",
    " placeholder=\"Enter you name\",\n",
    " description=\"Name:\"\n",
    " )\n",
    "display(txtsl)"
   ]
  },
  {
   "cell_type": "code",
   "execution_count": 29,
   "metadata": {},
   "outputs": [
    {
     "data": {
      "application/vnd.jupyter.widget-view+json": {
       "model_id": "bcf91723cd7647acbbeddfbd6560171e",
       "version_major": 2,
       "version_minor": 0
      },
      "text/plain": [
       "Textarea(value='this is the default value', description='Essay input', placeholder='Type something')"
      ]
     },
     "metadata": {},
     "output_type": "display_data"
    }
   ],
   "source": [
    "# text input\n",
    "txtml = widgets.Textarea(\n",
    " value=\"this is the default value\",\n",
    " placeholder=\"Type something\",\n",
    " description=\"Essay input\"\n",
    " )\n",
    "display(txtml)"
   ]
  },
  {
   "cell_type": "code",
   "execution_count": 30,
   "metadata": {},
   "outputs": [
    {
     "data": {
      "application/vnd.jupyter.widget-view+json": {
       "model_id": "97f92c23fc6048f38bb055c3b2dee687",
       "version_major": 2,
       "version_minor": 0
      },
      "text/plain": [
       "ToggleButton(value=False, button_style='success', description='Cats?', icon='check', tooltip='Description')"
      ]
     },
     "metadata": {},
     "output_type": "display_data"
    },
    {
     "name": "stdout",
     "output_type": "stream",
     "text": [
      "False\n"
     ]
    }
   ],
   "source": [
    "# toggle button\n",
    "chk = widgets.ToggleButton(\n",
    " value=False,\n",
    " description=\"Cats?\",\n",
    " disabled=False,\n",
    " button_style=\"success\",\n",
    " tooltip=\"Description\",\n",
    " icon=\"check\")\n",
    "display(chk)\n",
    "# In another cell\n",
    "print(chk.value)"
   ]
  },
  {
   "cell_type": "code",
   "execution_count": 31,
   "metadata": {},
   "outputs": [
    {
     "data": {
      "application/vnd.jupyter.widget-view+json": {
       "model_id": "539337affe5049c1afe53356a25e566c",
       "version_major": 2,
       "version_minor": 0
      },
      "text/plain": [
       "Checkbox(value=False, description='Click Me', indent=False)"
      ]
     },
     "metadata": {},
     "output_type": "display_data"
    }
   ],
   "source": [
    "# checkbox\n",
    "chkbox = widgets.Checkbox(\n",
    " value=False,\n",
    " description=\"Click Me\",\n",
    " disabled=False,\n",
    " indent=False # Indents the checkbox by 1 level\n",
    " )\n",
    "display(chkbox)"
   ]
  },
  {
   "cell_type": "code",
   "execution_count": 32,
   "metadata": {},
   "outputs": [
    {
     "data": {
      "application/vnd.jupyter.widget-view+json": {
       "model_id": "3b73b7fad8c84a0284df0cba600f3f26",
       "version_major": 2,
       "version_minor": 0
      },
      "text/plain": [
       "RadioButtons(description='Unit', index=1, options=('km', 'm', 'cm', 'mm'), value='m')"
      ]
     },
     "metadata": {},
     "output_type": "display_data"
    }
   ],
   "source": [
    "# radio buttons\n",
    "chkbox = widgets.RadioButtons(\n",
    " options=[\"km\", \"m\", \"cm\",\"mm\"],\n",
    " value = \"m\",\n",
    " description=\"Unit\"\n",
    " )\n",
    "display(chkbox)"
   ]
  },
  {
   "cell_type": "code",
   "execution_count": 33,
   "metadata": {},
   "outputs": [
    {
     "data": {
      "application/vnd.jupyter.widget-view+json": {
       "model_id": "2d58d6e0925f44cc979f2716cc700d50",
       "version_major": 2,
       "version_minor": 0
      },
      "text/plain": [
       "Select(description='Unit:', index=1, options=('km', 'm', 'cm', 'mm'), rows=3, value='m')"
      ]
     },
     "metadata": {},
     "output_type": "display_data"
    }
   ],
   "source": [
    "# selects\n",
    "sel = widgets.Select(\n",
    " options=[\"km\", \"m\", \"cm\",\"mm\"],\n",
    " value=\"m\",\n",
    " rows=3,\n",
    " description=\"Unit:\"\n",
    " )\n",
    "display(sel)"
   ]
  },
  {
   "cell_type": "code",
   "execution_count": 34,
   "metadata": {},
   "outputs": [
    {
     "data": {
      "application/vnd.jupyter.widget-view+json": {
       "model_id": "ae88dc4ef5f54d2094f2e41867cf5373",
       "version_major": 2,
       "version_minor": 0
      },
      "text/plain": [
       "SelectMultiple(description='Unit:', index=(1,), options=('km', 'm', 'cm', 'mm'), rows=4, value=('m',))"
      ]
     },
     "metadata": {},
     "output_type": "display_data"
    },
    {
     "data": {
      "text/plain": [
       "('m',)"
      ]
     },
     "execution_count": 34,
     "metadata": {},
     "output_type": "execute_result"
    }
   ],
   "source": [
    "# selects\n",
    "vals = [\"km\", \"m\", \"cm\",\"mm\"]\n",
    "sel = widgets.SelectMultiple(\n",
    "        options=vals,\n",
    "        value=['m'],\n",
    "        rows=min(5, len(vals)),\n",
    "        description='Unit:'\n",
    "    )\n",
    "display(sel)\n",
    "# in a diffrent cell\n",
    "sel.value\n",
    "# (‘m’,)"
   ]
  },
  {
   "cell_type": "code",
   "execution_count": 35,
   "metadata": {},
   "outputs": [
    {
     "data": {
      "application/vnd.jupyter.widget-view+json": {
       "model_id": "4c59d12ec6e447cd867acb0f6910b58a",
       "version_major": 2,
       "version_minor": 0
      },
      "text/plain": [
       "Dropdown(description='Number:', index=2, options=(0, 1, 2, 3, 4, 5, 6, 7, 8, 9), value=2)"
      ]
     },
     "metadata": {},
     "output_type": "display_data"
    }
   ],
   "source": [
    "# dropdown\n",
    "dropD = widgets.Dropdown(\n",
    " options=[i for i in range(10)],\n",
    " value=2,\n",
    " description=\"Number:\",\n",
    " disabled=False,\n",
    " )\n",
    "display(dropD)"
   ]
  },
  {
   "cell_type": "code",
   "execution_count": 36,
   "metadata": {},
   "outputs": [
    {
     "data": {
      "application/vnd.jupyter.widget-view+json": {
       "model_id": "52bd527a0c89405eaa211fda875d46a5",
       "version_major": 2,
       "version_minor": 0
      },
      "text/plain": [
       "DatePicker(value=datetime.date(2020, 5, 16), description='Pick a Date')"
      ]
     },
     "metadata": {},
     "output_type": "display_data"
    },
    {
     "data": {
      "text/plain": [
       "datetime.date(2020, 5, 16)"
      ]
     },
     "execution_count": 36,
     "metadata": {},
     "output_type": "execute_result"
    }
   ],
   "source": [
    "#date picker\n",
    "import datetime\n",
    "dtpick = widgets.DatePicker(\n",
    " description=\"Pick a Date\",\n",
    " value = datetime.date(2020, 5, 16)\n",
    " )\n",
    "display(dtpick)\n",
    "# in a different cell\n",
    "dtpick.value\n",
    "# datetime.date(2020, 5, 16)"
   ]
  },
  {
   "cell_type": "code",
   "execution_count": 37,
   "metadata": {},
   "outputs": [
    {
     "data": {
      "application/vnd.jupyter.widget-view+json": {
       "model_id": "a942289c7a9848d7824e00c6c2665d85",
       "version_major": 2,
       "version_minor": 0
      },
      "text/plain": [
       "ColorPicker(value='#f70000', description='Pick a color')"
      ]
     },
     "metadata": {},
     "output_type": "display_data"
    },
    {
     "name": "stdout",
     "output_type": "stream",
     "text": [
      "#f70000\n",
      "[247, 0, 0]\n"
     ]
    }
   ],
   "source": [
    "# color picker\n",
    "clp = widgets.ColorPicker(\n",
    " concise=False,\n",
    " description=\"Pick a color\",\n",
    " value=\"#f70000\"\n",
    " )\n",
    "display(clp)\n",
    "# in a different cell\n",
    "print(clp.value)\n",
    "# #f70000\n",
    "# RGB Value\n",
    "def hexToRGB(hexa):\n",
    " return[int(hexa[1:][i:i+2], 16) for i in (0, 2, 4)]\n",
    "rgb = hexToRGB(clp.value)\n",
    "print(rgb)\n",
    "# [247, 0, 0]"
   ]
  },
  {
   "cell_type": "code",
   "execution_count": null,
   "metadata": {},
   "outputs": [],
   "source": [
    "# this is a sample function\n",
    "def myfunc(x):\n",
    "    return x*2\n",
    "\n",
    "interact(myfunc,x=widgets.IntSlider(min=1,max=100,value=0))"
   ]
  },
  {
   "cell_type": "code",
   "execution_count": null,
   "metadata": {},
   "outputs": [],
   "source": [
    "# input text\n",
    "age =''\n",
    "age = input('how old are you? ')\n",
    "print(f'you are {age} years old')"
   ]
  },
  {
   "cell_type": "code",
   "execution_count": 10,
   "metadata": {},
   "outputs": [
    {
     "name": "stdout",
     "output_type": "stream",
     "text": [
      "O\n",
      "O\n",
      "O\n"
     ]
    }
   ],
   "source": [
    "# may useful to test\n",
    "@contextmanager\n",
    "def repeat(answer: str):\n",
    "    try:\n",
    "        original_input = builtins.input\n",
    "        \n",
    "        def mock_input(*args, **kwargs):\n",
    "            return answer\n",
    "        \n",
    "        builtins.input = mock_input\n",
    "        yield\n",
    "    \n",
    "    finally:\n",
    "        builtins.input = original_input\n",
    "\n",
    "        \n",
    "#TEST\n",
    "with repeat('O'):\n",
    "    answer_1 = input('Continue?')\n",
    "    answer_2 = input('Continue?')\n",
    "    answer_3 = input('Continue?')\n",
    "    \n",
    "print(answer_1)\n",
    "print(answer_2)\n",
    "print(answer_3)\n"
   ]
  },
  {
   "cell_type": "code",
   "execution_count": 40,
   "metadata": {},
   "outputs": [
    {
     "data": {
      "application/vnd.jupyter.widget-view+json": {
       "model_id": "88eda40298d541f8823f68119e5804c1",
       "version_major": 2,
       "version_minor": 0
      },
      "text/plain": [
       "Text(value='')"
      ]
     },
     "metadata": {},
     "output_type": "display_data"
    }
   ],
   "source": [
    "# run first and see a blank small window.  \n",
    "outputText = widgets.Text()\n",
    "outputText"
   ]
  },
  {
   "cell_type": "code",
   "execution_count": 41,
   "metadata": {},
   "outputs": [
    {
     "data": {
      "application/vnd.jupyter.widget-view+json": {
       "model_id": "80781debc2e44015be4283a5dba0b361",
       "version_major": 2,
       "version_minor": 0
      },
      "text/plain": [
       "Text(value='')"
      ]
     },
     "metadata": {},
     "output_type": "display_data"
    }
   ],
   "source": [
    "#run second and type lower case\n",
    "inputText = widgets.Text()\n",
    "def makeUpperCase(sender):\n",
    "    outputText.value = inputText.value.upper()\n",
    "inputText.on_submit(makeUpperCase)\n",
    "inputText\n"
   ]
  },
  {
   "cell_type": "code",
   "execution_count": null,
   "metadata": {},
   "outputs": [],
   "source": []
  }
 ],
 "metadata": {
  "kernelspec": {
   "display_name": "Python 3",
   "language": "python",
   "name": "python3"
  },
  "language_info": {
   "codemirror_mode": {
    "name": "ipython",
    "version": 3
   },
   "file_extension": ".py",
   "mimetype": "text/x-python",
   "name": "python",
   "nbconvert_exporter": "python",
   "pygments_lexer": "ipython3",
   "version": "3.7.9"
  }
 },
 "nbformat": 4,
 "nbformat_minor": 4
}
